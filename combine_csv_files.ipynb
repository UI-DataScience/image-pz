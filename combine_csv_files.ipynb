{
 "cells": [
  {
   "cell_type": "code",
   "execution_count": 1,
   "metadata": {
    "collapsed": true
   },
   "outputs": [],
   "source": [
    "import glob\n",
    "import csv"
   ]
  },
  {
   "cell_type": "code",
   "execution_count": 10,
   "metadata": {
    "collapsed": false
   },
   "outputs": [
    {
     "name": "stdout",
     "output_type": "stream",
     "text": [
      "Processing data/pixels/162,0-pixels.csv\n",
      "Processing data/pixels/188,0-pixels.csv\n",
      "Processing data/pixels/174,0-pixels.csv\n",
      "Processing data/pixels/166,0-pixels.csv\n",
      "Processing data/pixels/171,0-pixels.csv\n",
      "Processing data/pixels/186,0-pixels.csv\n",
      "Processing data/pixels/157,0-pixels.csv\n",
      "Processing data/pixels/187,0-pixels.csv\n",
      "Processing data/pixels/184,0-pixels.csv\n",
      "Processing data/pixels/168,0-pixels.csv\n",
      "Processing data/pixels/164,0-pixels.csv\n",
      "Processing data/pixels/170,0-pixels.csv\n",
      "Processing data/pixels/165,0-pixels.csv\n",
      "Processing data/pixels/179,0-pixels.csv\n",
      "Processing data/pixels/176,0-pixels.csv\n",
      "Processing data/pixels/175,0-pixels.csv\n",
      "Processing data/pixels/181,0-pixels.csv\n",
      "Processing data/pixels/159,0-pixels.csv\n",
      "Processing data/pixels/177,0-pixels.csv\n",
      "Processing data/pixels/163,0-pixels.csv\n",
      "Processing data/pixels/151,0-pixels.csv\n",
      "Processing data/pixels/172,0-pixels.csv\n",
      "Processing data/pixels/153,0-pixels.csv\n",
      "Processing data/pixels/190,0-pixels.csv\n",
      "Processing data/pixels/158,0-pixels.csv\n",
      "Processing data/pixels/161,0-pixels.csv\n",
      "Processing data/pixels/183,0-pixels.csv\n",
      "Processing data/pixels/160,0-pixels.csv\n",
      "Processing data/pixels/152,0-pixels.csv\n",
      "Processing data/pixels/185,0-pixels.csv\n",
      "Processing data/pixels/178,0-pixels.csv\n",
      "Processing data/pixels/173,0-pixels.csv\n",
      "Processing data/pixels/155,0-pixels.csv\n",
      "Processing data/pixels/189,0-pixels.csv\n",
      "Processing data/pixels/156,0-pixels.csv\n",
      "Processing data/pixels/180,0-pixels.csv\n",
      "Processing data/pixels/154,0-pixels.csv\n",
      "Processing data/pixels/167,0-pixels.csv\n",
      "Processing data/pixels/150,0-pixels.csv\n",
      "Processing data/pixels/182,0-pixels.csv\n",
      "Processing data/pixels/169,0-pixels.csv\n"
     ]
    }
   ],
   "source": [
    "with open('data/allsqfts.pixels','wb') as fout:\n",
    "    wout = csv.writer(fout,delimiter=',') \n",
    "    interesting_files = glob.glob(\"data/pixels/*.csv\") \n",
    "    for filename in interesting_files: \n",
    "        print 'Processing',filename \n",
    "        # Open and process file\n",
    "        h = False\n",
    "        with open(filename,'rb') as fin:\n",
    "            if h:\n",
    "                h = False\n",
    "            else:\n",
    "                fin.next()#skip header\n",
    "            for line in csv.reader(fin,delimiter=','):\n",
    "                wout.writerow(line)"
   ]
  },
  {
   "cell_type": "code",
   "execution_count": null,
   "metadata": {
    "collapsed": true
   },
   "outputs": [],
   "source": []
  }
 ],
 "metadata": {
  "kernelspec": {
   "display_name": "Python 2",
   "language": "python",
   "name": "python2"
  },
  "language_info": {
   "codemirror_mode": {
    "name": "ipython",
    "version": 2
   },
   "file_extension": ".py",
   "mimetype": "text/x-python",
   "name": "python",
   "nbconvert_exporter": "python",
   "pygments_lexer": "ipython2",
   "version": "2.7.6"
  }
 },
 "nbformat": 4,
 "nbformat_minor": 0
}
