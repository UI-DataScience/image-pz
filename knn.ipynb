{
 "cells": [
  {
   "cell_type": "code",
   "execution_count": 28,
   "metadata": {
    "collapsed": false
   },
   "outputs": [
    {
     "name": "stdout",
     "output_type": "stream",
     "text": [
      "ERROR! Session/line number was not unique in database. History logging moved to new session 206\n",
      "env: PATH=/usr/local/sbin:/usr/local/bin:/usr/sbin:/usr/bin:/sbin:/bin:/home/ubuntu/im-photoz/Montage_v3.3/bin:/montage/bin\n"
     ]
    }
   ],
   "source": [
    "%matplotlib inline\n",
    "%env PATH=/usr/local/sbin:/usr/local/bin:/usr/sbin:/usr/bin:/sbin:/bin:/home/ubuntu/im-photoz/Montage_v3.3/bin:/montage/bin\n",
    "\n",
    "import numpy as np\n",
    "import pandas as pd\n",
    "import matplotlib.pyplot as plt\n",
    "\n",
    "import warnings\n",
    "warnings.filterwarnings(\"ignore\")\n",
    "\n",
    "from sklearn import neighbors\n",
    "from sklearn.cross_validation import train_test_split\n",
    "from sklearn.utils import check_random_state"
   ]
  },
  {
   "cell_type": "code",
   "execution_count": 29,
   "metadata": {
    "collapsed": true
   },
   "outputs": [],
   "source": [
    "def read_from_file(file_path, mode=\"csv\", max_z=2):\n",
    "    if mode==\"csv\":\n",
    "        pixels = pd.DataFrame.from_csv(file_path)\n",
    "    elif mode==\"hdf5\":\n",
    "        pixels = pd.read_hdf(file_path, 'data')\n",
    "    pixels = pixels[['objID', 'z', 'zErr', 'lup_u', 'lup_g', 'lup_r', 'lup_i', 'lup_z', 'distance_to_obj']]\n",
    "    pixels = pixels[pixels['z']<=max_z]\n",
    "    objects = np.unique(pixels['objID'])\n",
    "    return pixels, objects"
   ]
  },
  {
   "cell_type": "code",
   "execution_count": 65,
   "metadata": {
    "collapsed": true
   },
   "outputs": [],
   "source": [
    "# Split training and testing sets by each OBJECT not each pixel\n",
    "def split(pixels, objects, test_column=['z', 'zErr'], test_size=0.3, random_state=check_random_state(0),\n",
    "          near_center=True):\n",
    "    \n",
    "    if near_center==True:\n",
    "        pixels = pixels[pixels['distance_to_obj']<=500]\n",
    "    \n",
    "    obj_X_train, obj_X_test, obj_y_train, obj_y_test = train_test_split(\n",
    "                                                            objects, \n",
    "                                                            objects, \n",
    "                                                            test_size=test_size, \n",
    "                                                            random_state=random_state\n",
    "                                                            )\n",
    "    \n",
    "    pc_test_col = pixels[[test_column[0], test_column[1], 'objID']]\n",
    "    pc_no_test_col = pixels.drop(test_column, axis=1)\n",
    "    \n",
    "    X_train = pc_no_test_col[pc_no_test_col['objID'].isin(objects)]\n",
    "    y_train = pc_test_col[pc_test_col['objID'].isin(objects)]\n",
    "    X_test = pc_no_test_col[pc_no_test_col['objID'].isin(objects)]\n",
    "    y_test = pc_test_col[pc_test_col['objID'].isin(objects)]\n",
    "    \n",
    "    X_train, X_test = map(normalize, [X_train, X_test])\n",
    "    y_train = y_train.drop('objID', axis=1)\n",
    "    y_test = y_test.drop('objID', axis=1)\n",
    "    y_test = y_test.set_index(np.arange(0, len(y_test)))\n",
    "    X_test = X_test.set_index(np.arange(0, len(X_test)))\n",
    "\n",
    "    \n",
    "    return X_train, X_test, y_train, y_test"
   ]
  },
  {
   "cell_type": "code",
   "execution_count": 66,
   "metadata": {
    "collapsed": true
   },
   "outputs": [],
   "source": [
    "def normalize(df):\n",
    "    if 'objID' in df.columns:\n",
    "        df = df.drop('objID', axis=1)\n",
    "    if 'pixelID' in df.columns:\n",
    "        df = df.drop('pixelID', axis=1)        \n",
    "    result = (df-df.min())/(df.max()-df.min()) # not worry about zero denominator for now\n",
    "    \n",
    "    return result"
   ]
  },
  {
   "cell_type": "code",
   "execution_count": 67,
   "metadata": {
    "collapsed": true
   },
   "outputs": [],
   "source": [
    "def train_knn(X_train_normal, y_train, X_test_normal, n_neighbors=4):\n",
    "    y_train = y_train.astype('float')\n",
    "    knc = neighbors.KNeighborsRegressor(n_neighbors=n_neighbors)\n",
    "    model = knc.fit(X_train_normal, y_train)\n",
    "    y_predict = pd.DataFrame(knc.predict(X_test_normal), columns=['z', 'zErr'])\n",
    "    return model, y_predict"
   ]
  },
  {
   "cell_type": "code",
   "execution_count": 77,
   "metadata": {
    "collapsed": false
   },
   "outputs": [],
   "source": [
    "def main(path, mode=\"csv\"):\n",
    "    pixels, objects = read_from_file(path, mode)\n",
    "    X_train, X_test, y_train, y_test = split(pixels=pixels, objects=objects)\n",
    "    model, y_predict = train_knn(X_train, y_train, X_test, 10)\n",
    "    \n",
    "    fig,ax0 = plt.subplots(figsize=(8,7))\n",
    "    ax0.set(xlim=(0,0.2), ylim=(0,0.2))\n",
    "    ax0.set_xlabel(\"testing\", fontsize=12)\n",
    "    ax0.set_ylabel(\"prediction\", fontsize=12)\n",
    "    ax0.set_title(\"No Modification\", fontsize=20)\n",
    "    sc0 = ax0.scatter(y_test.z, y_predict.z, marker='o', linewidth=0.1, c=X_test.distance_to_obj)\n",
    "    ax0.plot(np.linspace(0,1), np.linspace(0,1), linewidth=1.5, color='black')\n",
    "    ax0.errorbar(y_test.z, y_predict.z, yerr=y_predict.zErr, linewidth=0, color='black')\n",
    "    plt.colorbar(sc0)\n",
    "    \n",
    "    fig,ax3 = plt.subplots(figsize=(8,7))\n",
    "    df_test_predict = pd.DataFrame({'y_test': y_test.z, 'y_predict':y_predict.z, 'zErr':y_predict.zErr ,'distance':X_test.distance_to_obj})\n",
    "    df_center = df_test_predict[df_test_predict.distance<=0.005]\n",
    "    ax3.set(xlim=(0,1), ylim=(0,1))\n",
    "    ax3.set_xlabel(\"testing\", fontsize=12)\n",
    "    ax3.set_ylabel(\"prediction\", fontsize=12)\n",
    "    ax3.set_title(\"Center Points of Objects\", fontsize=20)\n",
    "    sc3 = ax3.scatter(df_center.y_test, df_center.y_predict, marker='o', linewidth=0.1, c=df_center.distance)\n",
    "    ax3.plot(np.linspace(0,1), np.linspace(0,1), linewidth=1.5, color='black')\n",
    "    ax3.errorbar(df_center.y_test, df_center.y_predict, yerr=df_center.zErr, linewidth=0, color='black')\n",
    "    plt.colorbar(sc3)\n",
    "    \n",
    "    fig,ax1 = plt.subplots(figsize=(7,7))\n",
    "    df_mean = df_test_predict.groupby('y_test', as_index=False).mean()\n",
    "    ax1.set(xlim=(0,0.2), ylim=(0,0.2))\n",
    "    ax1.set_xlabel(\"testing\", fontsize=12)\n",
    "    ax1.set_ylabel(\"prediction\", fontsize=12)\n",
    "    ax1.set_title(\"Average\", fontsize=20)\n",
    "    sc1 = ax1.scatter(df_mean.y_test, df_mean.y_predict, marker='o', linewidth=0.1, c='red')\n",
    "    ax1.errorbar(df_mean.y_test, df_mean.y_predict, yerr=df_mean.zErr, linewidth=0, color='black')\n",
    "    ax1.plot(np.linspace(0,1), np.linspace(0,1), linewidth=1, color='black')\n",
    "    \n",
    "    fig,ax2 = plt.subplots(figsize=(7,7))\n",
    "    df_median = df_test_predict.groupby('y_test', as_index=False).median()\n",
    "    ax2.set(xlim=(0,0.2), ylim=(0,0.2))\n",
    "    ax2.set_xlabel(\"testing\", fontsize=12)\n",
    "    ax2.set_ylabel(\"prediction\", fontsize=12)\n",
    "    ax2.set_title(\"Median\", fontsize=20)\n",
    "    sc2 = ax2.scatter(df_median.y_test, df_median.y_predict, marker='o', linewidth=0.1, c='red')\n",
    "    ax2.errorbar(df_median.y_test, df_median.y_predict, yerr=df_median.zErr, linewidth=0, color='black')\n",
    "    ax2.plot(np.linspace(0,1), np.linspace(0,1), linewidth=1.5, color='black')\n",
    "    \n",
    "    fig,ax4= plt.subplots(figsize=(7,7))\n",
    "    ax4.hist(y_test.z, c=X_test.distance_to_obj)\n",
    "    ax4.set_xlabel(\"z\", fontsize=12)\n",
    "    ax4.set_ylabel(\"count\", fontsize=12)\n",
    "    ax4.set_title(\"Sample Redshift Distribution\", fontsize=20)\n",
    "    \n",
    "    #plt.savefig('result.png')\n",
    "    \n",
    "    del pixels\n",
    "    del objects\n",
    "    del df_test_predict\n",
    "    return None"
   ]
  },
  {
   "cell_type": "code",
   "execution_count": 106,
   "metadata": {
    "collapsed": false
   },
   "outputs": [],
   "source": [
    "def main(path, mode=\"csv\"):\n",
    "    pixels, objects = read_from_file(path, mode)\n",
    "    X_train, X_test, y_train, y_test = split(pixels=pixels, objects=objects)\n",
    "    model, y_predict = train_knn(X_train, y_train, X_test, 10)\n",
    "    \n",
    "    fig,ax4= plt.subplots(figsize=(7,7))\n",
    "    ax4.hist(y_test.z, width=0.01, bins=80, color=\"dodgerblue\", linewidth=0.5)\n",
    "    ax4.set_xlabel(\"z\", fontsize=12)\n",
    "    ax4.set_ylabel(\"count\", fontsize=12)\n",
    "    ax4.set_title(\"Sample Redshift Distribution\", fontsize=20)\n",
    "    \n",
    "    #plt.savefig('result.png')\n",
    "    \n",
    "    del pixels\n",
    "    del objects\n",
    "    return None"
   ]
  },
  {
   "cell_type": "code",
   "execution_count": 107,
   "metadata": {
    "collapsed": false
   },
   "outputs": [
    {
     "data": {
      "image/png": "[encoded data removed]",
      "text/plain": [
       "<matplotlib.figure.Figure at 0x7f802666f750>"
      ]
     },
     "metadata": {},
     "output_type": "display_data"
    }
   ],
   "source": [
    "main('data/pixels/150,0-pixels.csv')"
   ]
  },
  {
   "cell_type": "code",
   "execution_count": 108,
   "metadata": {
    "collapsed": false
   },
   "outputs": [
    {
     "data": {
      "image/png": "[encoded data removed]",
      "text/plain": [
       "<matplotlib.figure.Figure at 0x7f801f6ef9d0>"
      ]
     },
     "metadata": {},
     "output_type": "display_data"
    }
   ],
   "source": [
    "main('data/allsqfts.pixels.h5', mode=\"hdf5\")"
   ]
  },
  {
   "cell_type": "code",
   "execution_count": null,
   "metadata": {
    "collapsed": true
   },
   "outputs": [],
   "source": []
  }
 ],
 "metadata": {
  "kernelspec": {
   "display_name": "Python 2",
   "language": "python",
   "name": "python2"
  },
  "language_info": {
   "codemirror_mode": {
    "name": "ipython",
    "version": 2
   },
   "file_extension": ".py",
   "mimetype": "text/x-python",
   "name": "python",
   "nbconvert_exporter": "python",
   "pygments_lexer": "ipython2",
   "version": "2.7.6"
  }
 },
 "nbformat": 4,
 "nbformat_minor": 0
}
