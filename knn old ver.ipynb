{
 "cells": [
  {
   "cell_type": "code",
   "execution_count": 1,
   "metadata": {
    "collapsed": false
   },
   "outputs": [
    {
     "name": "stdout",
     "output_type": "stream",
     "text": [
      "env: PATH=/usr/local/sbin:/usr/local/bin:/usr/sbin:/usr/bin:/sbin:/bin:/home/ubuntu/im-photoz/Montage_v3.3/bin:/montage/bin\n"
     ]
    }
   ],
   "source": [
    "%matplotlib inline\n",
    "%env PATH=/usr/local/sbin:/usr/local/bin:/usr/sbin:/usr/bin:/sbin:/bin:/home/ubuntu/im-photoz/Montage_v3.3/bin:/montage/bin\n",
    "\n",
    "import numpy as np\n",
    "import pandas as pd\n",
    "import matplotlib.pyplot as plt\n",
    "\n",
    "import warnings\n",
    "warnings.filterwarnings(\"ignore\")\n",
    "\n",
    "from sklearn import neighbors\n",
    "from sklearn.cross_validation import train_test_split\n",
    "from sklearn.utils import check_random_state"
   ]
  },
  {
   "cell_type": "code",
   "execution_count": 196,
   "metadata": {
    "collapsed": false
   },
   "outputs": [],
   "source": [
    "pixels = pd.DataFrame.from_csv('pixels.csv')\n",
    "objects = pd.DataFrame.from_csv('objects.csv')"
   ]
  },
  {
   "cell_type": "code",
   "execution_count": 229,
   "metadata": {
    "collapsed": false
   },
   "outputs": [],
   "source": [
    "pixels_copy = pixels[['objID', 'class', 'pixelID', 'z', 'zErr', 'lup_u', 'lup_g', 'lup_r', 'lup_i', 'lup_z']]\n",
    "objects_copy = objects[['objID', 'z', 'zErr', 'dered_u', 'dered_g', 'dered_r', 'dered_i', 'dered_z']]"
   ]
  },
  {
   "cell_type": "code",
   "execution_count": 230,
   "metadata": {
    "collapsed": true
   },
   "outputs": [],
   "source": [
    "def select_samples(df, max_z=0.5):\n",
    "    if 'class' in df.columns:\n",
    "        df_no_stars = df[df['class']=='GALAXY']\n",
    "        df_no_stars = df_no_stars.drop('class', axis=1)\n",
    "    else:\n",
    "        df_no_stars = df\n",
    "    samples = df_no_stars[df_no_stars['z']<=max_z]\n",
    "    \n",
    "    return samples"
   ]
  },
  {
   "cell_type": "code",
   "execution_count": 231,
   "metadata": {
    "collapsed": true
   },
   "outputs": [],
   "source": [
    "# Split training and testing sets by each OBJECT not each pixel\n",
    "def split(df=objects_copy, pixels=pixels_copy, test_column=['z', 'zErr'], test_size=0.1, random_state=check_random_state(0),\n",
    "          near_center=False, pixel_distance_to_center=10):\n",
    "    \n",
    "    # Need revising later\n",
    "    '''if near_center==True:\n",
    "        rows_to_keep = pd.DataFrame()\n",
    "        for i, r in pixels.iterrows():\n",
    "            distance = ( ( float(r['pixel_x_coord']) - float(r['object_x_coord']) )**2\n",
    "                        + ( float(r['pixel_y_coord']) - float(r['object_y_coord']) )**2 )**0.5\n",
    "            if distance > pixel_distance_to_center:\n",
    "                rows_to_keep = rows_to_keep.append(r)\n",
    "        pixels_copy = rows_to_keep  '''   \n",
    "    \n",
    "    df_X_train, df_X_test, df_y_train, df_y_test = train_test_split(\n",
    "                                                        df.drop(test_column, axis=1), \n",
    "                                                        df[test_column], \n",
    "                                                        test_size=test_size, \n",
    "                                                        random_state=random_state\n",
    "                                                        )\n",
    "    X_train = pd.DataFrame()\n",
    "    X_test = pd.DataFrame()\n",
    "    y_train = pd.DataFrame()\n",
    "    y_test = pd.DataFrame()\n",
    "    \n",
    "    pc_test_col = pixels[[test_column[0], test_column[1], 'objID']]\n",
    "    pc_no_test_col = pixels.drop(test_column, axis=1)\n",
    "    \n",
    "    for objID in df_X_train['objID']:\n",
    "          X_train = X_train.append(pc_no_test_col[pc_no_test_col['objID']==objID])\n",
    "          y_train = y_train.append(pc_test_col[pc_test_col['objID']==objID])\n",
    "    for objID in df_X_test['objID']:\n",
    "          X_test = X_test.append(pc_no_test_col[pc_no_test_col['objID']==objID])\n",
    "          y_test = y_test.append(pc_test_col[pc_test_col['objID']==objID])    \n",
    "        \n",
    "    return X_train, X_test, y_train, y_test"
   ]
  },
  {
   "cell_type": "code",
   "execution_count": 232,
   "metadata": {
    "collapsed": true
   },
   "outputs": [],
   "source": [
    "def normalize(df):\n",
    "    if 'objID' in df.columns:\n",
    "        df = df.drop('objID', axis=1)\n",
    "    if 'pixelID' in df.columns:\n",
    "        df = df.drop('pixelID', axis=1)        \n",
    "    result = (df-df.min())/(df.max()-df.min()) # not worry about zero denominator for now\n",
    "    \n",
    "    return result"
   ]
  },
  {
   "cell_type": "code",
   "execution_count": 233,
   "metadata": {
    "collapsed": true
   },
   "outputs": [],
   "source": [
    "def train_knn(X_train_normal, y_train, X_test_normal, n_neighbors=4):\n",
    "    y_train = y_train.astype('float')\n",
    "    knc = neighbors.KNeighborsRegressor(n_neighbors=n_neighbors)\n",
    "    model = knc.fit(X_train_normal, y_train)\n",
    "    y_predict = pd.DataFrame(knc.predict(X_test_normal), columns=['z', 'zErr'])\n",
    "    return model, y_predict"
   ]
  },
  {
   "cell_type": "code",
   "execution_count": 234,
   "metadata": {
    "collapsed": false
   },
   "outputs": [
    {
     "data": {
      "text/plain": [
       "'def compute_accuracy(X_train, X_test, y_train, y_test, start=1, end=51):\\n\\n    k = np.arange(start, end)\\n    scores = []\\n    for i in k:\\n        model, y_predict = train_knn(X_train, y_train, X_test, i)\\n        score = model.score(X_test, y_test)\\n        scores.append(score)\\n        print (\"n_neighbors = {}, score = {}\".format(i, score))\\n    return scores'"
      ]
     },
     "execution_count": 234,
     "metadata": {},
     "output_type": "execute_result"
    }
   ],
   "source": [
    "'''def compute_accuracy(X_train, X_test, y_train, y_test, start=1, end=51):\n",
    "\n",
    "    k = np.arange(start, end)\n",
    "    scores = []\n",
    "    for i in k:\n",
    "        model, y_predict = train_knn(X_train, y_train, X_test, i)\n",
    "        score = model.score(X_test, y_test)\n",
    "        scores.append(score)\n",
    "        print (\"n_neighbors = {}, score = {}\".format(i, score))\n",
    "    return scores'''"
   ]
  },
  {
   "cell_type": "code",
   "execution_count": 235,
   "metadata": {
    "collapsed": false
   },
   "outputs": [],
   "source": [
    "pixels_copy2 = select_samples(pixels_copy, max_z=1)"
   ]
  },
  {
   "cell_type": "code",
   "execution_count": 236,
   "metadata": {
    "collapsed": false
   },
   "outputs": [],
   "source": [
    "X_train, X_test, y_train, y_test = split(df=objects_copy, pixels=pixels_copy2)"
   ]
  },
  {
   "cell_type": "code",
   "execution_count": 237,
   "metadata": {
    "collapsed": false
   },
   "outputs": [],
   "source": [
    "X_train_normal, X_test_normal = map(normalize, [X_train, X_test])\n",
    "y_train = y_train.drop('objID', axis=1)\n",
    "y_test = y_test.drop('objID', axis=1)\n",
    "y_test = y_test.set_index(np.arange(0, len(y_test)))"
   ]
  },
  {
   "cell_type": "code",
   "execution_count": 238,
   "metadata": {
    "collapsed": true
   },
   "outputs": [],
   "source": [
    "# scores = compute_accuracy(X_train_normal, X_test_normal, y_train, y_test)"
   ]
  },
  {
   "cell_type": "code",
   "execution_count": 239,
   "metadata": {
    "collapsed": false
   },
   "outputs": [
    {
     "data": {
      "text/plain": [
       "\"# cheating a little bit\\nX_train = pixels_copy\\nX_test = pixels_copy[pixels_copy['objID'].isin([1237648722300371140,1237648721763369113])]\\nX_train_normal, X_test_normal = map(normalize, [X_train, X_test])\\ny_train = pixels_copy[['z','zErr']]\\ny_test = pixels_copy[pixels_copy['objID'].isin([1237648722300371140,1237648721763369113])][['z','zErr']]\\ny_test = y_test.set_index(np.arange(0, len(y_test)))\""
      ]
     },
     "execution_count": 239,
     "metadata": {},
     "output_type": "execute_result"
    }
   ],
   "source": [
    "'''# cheating a little bit\n",
    "X_train = pixels_copy\n",
    "X_test = pixels_copy[pixels_copy['objID'].isin([1237648722300371140,1237648721763369113])]\n",
    "X_train_normal, X_test_normal = map(normalize, [X_train, X_test])\n",
    "y_train = pixels_copy[['z','zErr']]\n",
    "y_test = pixels_copy[pixels_copy['objID'].isin([1237648722300371140,1237648721763369113])][['z','zErr']]\n",
    "y_test = y_test.set_index(np.arange(0, len(y_test)))'''"
   ]
  },
  {
   "cell_type": "code",
   "execution_count": 240,
   "metadata": {
    "collapsed": false
   },
   "outputs": [],
   "source": [
    "model, y_predict = train_knn(X_train_normal, y_train, X_test_normal, 10)"
   ]
  },
  {
   "cell_type": "code",
   "execution_count": 227,
   "metadata": {
    "collapsed": false
   },
   "outputs": [
    {
     "data": {
      "text/plain": [
       "[<matplotlib.text.Text at 0x7f540877ee10>,\n",
       " (0, 0.6),\n",
       " (0, 0.6),\n",
       " <matplotlib.text.Text at 0x7f54097415d0>]"
      ]
     },
     "execution_count": 227,
     "metadata": {},
     "output_type": "execute_result"
    },
    {
     "data": {
      "image/png": "[encoded data removed]",
      "text/plain": [
       "<matplotlib.figure.Figure at 0x7f540869fc10>"
      ]
     },
     "metadata": {},
     "output_type": "display_data"
    }
   ],
   "source": [
    "fig0,ax0 = plt.subplots(figsize=(5,5))\n",
    "ax0.scatter(y_test.z, y_predict.z, marker='o', linewidth=0, color=\"blue\")\n",
    "ax0.plot(np.linspace(0,1), np.linspace(0,1), color=\"red\")\n",
    "ax0.set(xlabel=\"testing\", ylabel=\"prediction\", xlim=(0,0.6), ylim=(0,0.6))"
   ]
  },
  {
   "cell_type": "code",
   "execution_count": 228,
   "metadata": {
    "collapsed": false
   },
   "outputs": [
    {
     "data": {
      "text/plain": [
       "[<matplotlib.text.Text at 0x7f540875e2d0>,\n",
       " (0, 0.5),\n",
       " (0, 0.5),\n",
       " <matplotlib.text.Text at 0x7f54096fde10>]"
      ]
     },
     "execution_count": 228,
     "metadata": {},
     "output_type": "execute_result"
    },
    {
     "data": {
      "image/png": "[encoded data removed]",
      "text/plain": [
       "<matplotlib.figure.Figure at 0x7f5409bbc110>"
      ]
     },
     "metadata": {},
     "output_type": "display_data"
    }
   ],
   "source": [
    "df_test_predict = pd.DataFrame({'y_test': y_test.z, 'y_predict':y_predict.z})\n",
    "df_mean = df_test_predict.groupby('y_test', as_index=False).mean()\n",
    "fig2,ax2 = plt.subplots(figsize=(5,5))\n",
    "ax2.scatter(df_mean.y_test, df_mean.y_predict, marker='o', linewidth=0, color=\"blue\")\n",
    "ax2.plot(np.linspace(0,1), np.linspace(0,1), color=\"red\")\n",
    "ax2.set(xlabel=\"testing\", ylabel=\"prediction\", xlim=(0,0.5), ylim=(0,0.5))"
   ]
  },
  {
   "cell_type": "code",
   "execution_count": 241,
   "metadata": {
    "collapsed": false
   },
   "outputs": [
    {
     "data": {
      "text/plain": [
       "[<matplotlib.text.Text at 0x7f54095d7110>,\n",
       " (0, 1),\n",
       " (0, 1),\n",
       " <matplotlib.text.Text at 0x7f54095dc610>]"
      ]
     },
     "execution_count": 241,
     "metadata": {},
     "output_type": "execute_result"
    },
    {
     "data": {
      "image/png": "[encoded data removed]",
      "text/plain": [
       "<matplotlib.figure.Figure at 0x7f5408606d90>"
      ]
     },
     "metadata": {},
     "output_type": "display_data"
    }
   ],
   "source": [
    "fig1,ax1 = plt.subplots(figsize=(5,5))\n",
    "ax1.scatter(y_test.z, y_predict.z, marker='o', linewidth=0, color=\"blue\")\n",
    "ax1.plot(np.linspace(0,1), np.linspace(0,1), color=\"red\")\n",
    "ax1.set(xlabel=\"testing\", ylabel=\"prediction\", xlim=(0,1), ylim=(0,1))"
   ]
  },
  {
   "cell_type": "code",
   "execution_count": 242,
   "metadata": {
    "collapsed": false
   },
   "outputs": [
    {
     "data": {
      "text/plain": [
       "[<matplotlib.text.Text at 0x7f54095dc810>,\n",
       " (0, 0.5),\n",
       " (0, 0.5),\n",
       " <matplotlib.text.Text at 0x7f54095c6c90>]"
      ]
     },
     "execution_count": 242,
     "metadata": {},
     "output_type": "execute_result"
    },
    {
     "data": {
      "image/png": "[encoded data removed]",
      "text/plain": [
       "<matplotlib.figure.Figure at 0x7f54096c5590>"
      ]
     },
     "metadata": {},
     "output_type": "display_data"
    }
   ],
   "source": [
    "df_test_predict = pd.DataFrame({'y_test': y_test.z, 'y_predict':y_predict.z})\n",
    "df_mean = df_test_predict.groupby('y_test', as_index=False).mean()\n",
    "fig3,ax3 = plt.subplots(figsize=(5,5))\n",
    "ax3.scatter(df_mean.y_test, df_mean.y_predict, marker='o', linewidth=0, color=\"blue\")\n",
    "ax3.plot(np.linspace(0,1), np.linspace(0,1), color=\"red\")\n",
    "ax3.set(xlabel=\"testing\", ylabel=\"prediction\", xlim=(0,0.5), ylim=(0,0.5))"
   ]
  },
  {
   "cell_type": "code",
   "execution_count": null,
   "metadata": {
    "collapsed": true
   },
   "outputs": [],
   "source": []
  }
 ],
 "metadata": {
  "kernelspec": {
   "display_name": "Python 2",
   "language": "python",
   "name": "python2"
  },
  "language_info": {
   "codemirror_mode": {
    "name": "ipython",
    "version": 2
   },
   "file_extension": ".py",
   "mimetype": "text/x-python",
   "name": "python",
   "nbconvert_exporter": "python",
   "pygments_lexer": "ipython2",
   "version": "2.7.6"
  }
 },
 "nbformat": 4,
 "nbformat_minor": 0
}
