{
 "cells": [
  {
   "cell_type": "code",
   "execution_count": 31,
   "metadata": {
    "collapsed": true
   },
   "outputs": [],
   "source": [
    "import pyfits as pf\n",
    "import numpy as np"
   ]
  },
  {
   "cell_type": "code",
   "execution_count": 3,
   "metadata": {
    "collapsed": false
   },
   "outputs": [],
   "source": [
    "H=pf.open('temp/frame-g-000752-4-0181.fits')"
   ]
  },
  {
   "cell_type": "code",
   "execution_count": 4,
   "metadata": {
    "collapsed": false
   },
   "outputs": [
    {
     "name": "stdout",
     "output_type": "stream",
     "text": [
      "Filename: temp/frame-g-000752-4-0181.fits\n",
      "No.    Name         Type      Cards   Dimensions   Format\n",
      "0    PRIMARY     PrimaryHDU      86   (2048, 1489)   float32   \n",
      "1                ImageHDU         6   (2048,)      float32   \n",
      "2                BinTableHDU     27   1R x 3C      [49152E, 2048E, 1489E]   \n",
      "3                BinTableHDU     79   1R x 31C     [J, 3A, J, A, D, D, 2J, J, D, D, D, D, D, D, D, D, D, D, D, D, D, D, D, D, D, D, D, D, D, E, E]   \n"
     ]
    }
   ],
   "source": [
    "H.info()"
   ]
  },
  {
   "cell_type": "code",
   "execution_count": 50,
   "metadata": {
    "collapsed": false
   },
   "outputs": [
    {
     "data": {
      "text/plain": [
       "XTENSION= 'BINTABLE'           /Binary table written by MWRFITS v1.11           \n",
       "BITPIX  =                    8 /Required value                                  \n",
       "NAXIS   =                    2 /Required value                                  \n",
       "NAXIS1  =               210756 /Number of bytes per row                         \n",
       "NAXIS2  =                    1 /Number of rows                                  \n",
       "PCOUNT  =                    0 /Normally 0 (no varying arrays)                  \n",
       "GCOUNT  =                    1 /Required value                                  \n",
       "TFIELDS =                    3 /Number of columns in table                      \n",
       "COMMENT                                                                         \n",
       "COMMENT  *** End of mandatory fields ***                                        \n",
       "COMMENT                                                                         \n",
       "COMMENT                                                                         \n",
       "COMMENT  *** Column names ***                                                   \n",
       "COMMENT                                                                         \n",
       "TTYPE1  = 'ALLSKY  '           /                                                \n",
       "TTYPE2  = 'XINTERP '           /                                                \n",
       "TTYPE3  = 'YINTERP '           /                                                \n",
       "COMMENT                                                                         \n",
       "COMMENT  *** Column formats ***                                                 \n",
       "COMMENT                                                                         \n",
       "TFORM1  = '49152E  '           /                                                \n",
       "TFORM2  = '2048E   '           /                                                \n",
       "TFORM3  = '1489E   '           /                                                \n",
       "COMMENT                                                                         \n",
       "COMMENT  *** Column dimensions (2 D or greater) ***                             \n",
       "COMMENT                                                                         \n",
       "TDIM1   = '( 256, 192)'        /                                                "
      ]
     },
     "execution_count": 50,
     "metadata": {},
     "output_type": "execute_result"
    }
   ],
   "source": [
    "H[2].header"
   ]
  },
  {
   "cell_type": "code",
   "execution_count": 51,
   "metadata": {
    "collapsed": false
   },
   "outputs": [
    {
     "data": {
      "text/plain": [
       "XTENSION= 'BINTABLE'           /Binary table written by MWRFITS v1.11           \n",
       "BITPIX  =                    8 /Required value                                  \n",
       "NAXIS   =                    2 /Required value                                  \n",
       "NAXIS1  =                  216 /Number of bytes per row                         \n",
       "NAXIS2  =                    1 /Number of rows                                  \n",
       "PCOUNT  =                    0 /Normally 0 (no varying arrays)                  \n",
       "GCOUNT  =                    1 /Required value                                  \n",
       "TFIELDS =                   31 /Number of columns in table                      \n",
       "COMMENT                                                                         \n",
       "COMMENT  *** End of mandatory fields ***                                        \n",
       "COMMENT                                                                         \n",
       "COMMENT                                                                         \n",
       "COMMENT  *** Column names ***                                                   \n",
       "COMMENT                                                                         \n",
       "TTYPE1  = 'RUN     '           /                                                \n",
       "TTYPE2  = 'RERUN   '           /                                                \n",
       "TTYPE3  = 'CAMCOL  '           /                                                \n",
       "TTYPE4  = 'FILTER  '           /                                                \n",
       "TTYPE5  = 'NODE    '           /                                                \n",
       "TTYPE6  = 'INCL    '           /                                                \n",
       "TTYPE7  = 'NAXIS   '           /                                                \n",
       "TTYPE8  = 'FIELD   '           /                                                \n",
       "TTYPE9  = 'A       '           /                                                \n",
       "TTYPE10 = 'B       '           /                                                \n",
       "TTYPE11 = 'C       '           /                                                \n",
       "TTYPE12 = 'D       '           /                                                \n",
       "TTYPE13 = 'E       '           /                                                \n",
       "TTYPE14 = 'F       '           /                                                \n",
       "TTYPE15 = 'DROW0   '           /                                                \n",
       "TTYPE16 = 'DROW1   '           /                                                \n",
       "TTYPE17 = 'DROW2   '           /                                                \n",
       "TTYPE18 = 'DROW3   '           /                                                \n",
       "TTYPE19 = 'DCOL0   '           /                                                \n",
       "TTYPE20 = 'DCOL1   '           /                                                \n",
       "TTYPE21 = 'DCOL2   '           /                                                \n",
       "TTYPE22 = 'DCOL3   '           /                                                \n",
       "TTYPE23 = 'CSROW   '           /                                                \n",
       "TTYPE24 = 'CSCOL   '           /                                                \n",
       "TTYPE25 = 'CCROW   '           /                                                \n",
       "TTYPE26 = 'CCCOL   '           /                                                \n",
       "TTYPE27 = 'RICUT   '           /                                                \n",
       "TTYPE28 = 'MJD     '           /                                                \n",
       "TTYPE29 = 'AIRMASS '           /                                                \n",
       "TTYPE30 = 'MUERR   '           /                                                \n",
       "TTYPE31 = 'NUERR   '           /                                                \n",
       "COMMENT                                                                         \n",
       "COMMENT  *** Column formats ***                                                 \n",
       "COMMENT                                                                         \n",
       "TFORM1  = 'J       '           /                                                \n",
       "TFORM2  = '3A      '           /                                                \n",
       "TFORM3  = 'J       '           /                                                \n",
       "TFORM4  = 'A       '           /                                                \n",
       "TFORM5  = 'D       '           /                                                \n",
       "TFORM6  = 'D       '           /                                                \n",
       "TFORM7  = '2J      '           /                                                \n",
       "TFORM8  = 'J       '           /                                                \n",
       "TFORM9  = 'D       '           /                                                \n",
       "TFORM10 = 'D       '           /                                                \n",
       "TFORM11 = 'D       '           /                                                \n",
       "TFORM12 = 'D       '           /                                                \n",
       "TFORM13 = 'D       '           /                                                \n",
       "TFORM14 = 'D       '           /                                                \n",
       "TFORM15 = 'D       '           /                                                \n",
       "TFORM16 = 'D       '           /                                                \n",
       "TFORM17 = 'D       '           /                                                \n",
       "TFORM18 = 'D       '           /                                                \n",
       "TFORM19 = 'D       '           /                                                \n",
       "TFORM20 = 'D       '           /                                                \n",
       "TFORM21 = 'D       '           /                                                \n",
       "TFORM22 = 'D       '           /                                                \n",
       "TFORM23 = 'D       '           /                                                \n",
       "TFORM24 = 'D       '           /                                                \n",
       "TFORM25 = 'D       '           /                                                \n",
       "TFORM26 = 'D       '           /                                                \n",
       "TFORM27 = 'D       '           /                                                \n",
       "TFORM28 = 'D       '           /                                                \n",
       "TFORM29 = 'D       '           /                                                \n",
       "TFORM30 = 'E       '           /                                                \n",
       "TFORM31 = 'E       '           /                                                "
      ]
     },
     "execution_count": 51,
     "metadata": {},
     "output_type": "execute_result"
    }
   ],
   "source": [
    "H[3].header\n",
    "\n"
   ]
  },
  {
   "cell_type": "code",
   "execution_count": 49,
   "metadata": {
    "collapsed": false
   },
   "outputs": [
    {
     "name": "stdout",
     "output_type": "stream",
     "text": [
      "[[        nan  0.00811401         nan ...,         nan         nan\n",
      "   0.00547476]\n",
      " [        nan  0.00650171         nan ...,         nan  0.00547476\n",
      "          nan]\n",
      " [        nan         nan  0.00552175 ...,         nan         nan\n",
      "          nan]\n",
      " ..., \n",
      " [ 0.00512621         nan         nan ...,  0.00612519         nan\n",
      "   0.00374573]\n",
      " [ 0.00784854         nan  0.01042735 ...,         nan         nan\n",
      "          nan]\n",
      " [ 0.00616723  0.00784854         nan ...,  0.00507556         nan\n",
      "          nan]]\n"
     ]
    },
    {
     "name": "stderr",
     "output_type": "stream",
     "text": [
      "/usr/local/lib/python2.7/dist-packages/ipykernel/__main__.py:3: RuntimeWarning: invalid value encountered in sqrt\n",
      "  app.launch_new_instance()\n"
     ]
    }
   ],
   "source": [
    "# print H[0].data\n",
    "count = H[0].data/0.00338674\n",
    "err = count**0.5*0.00338674\n",
    "print err"
   ]
  },
  {
   "cell_type": "code",
   "execution_count": 42,
   "metadata": {
    "collapsed": false
   },
   "outputs": [
    {
     "ename": "TypeError",
     "evalue": "object of type 'numpy.float32' has no len()",
     "output_type": "error",
     "traceback": [
      "\u001b[1;31m---------------------------------------------------------------------------\u001b[0m",
      "\u001b[1;31mTypeError\u001b[0m                                 Traceback (most recent call last)",
      "\u001b[1;32m<ipython-input-42-56f90bd1cda0>\u001b[0m in \u001b[0;36m<module>\u001b[1;34m()\u001b[0m\n\u001b[1;32m----> 1\u001b[1;33m \u001b[0mlen\u001b[0m\u001b[1;33m(\u001b[0m\u001b[0mH\u001b[0m\u001b[1;33m[\u001b[0m\u001b[1;36m1\u001b[0m\u001b[1;33m]\u001b[0m\u001b[1;33m.\u001b[0m\u001b[0mdata\u001b[0m\u001b[1;33m[\u001b[0m\u001b[1;36m3\u001b[0m\u001b[1;33m]\u001b[0m\u001b[1;33m)\u001b[0m\u001b[1;33m\u001b[0m\u001b[0m\n\u001b[0m",
      "\u001b[1;31mTypeError\u001b[0m: object of type 'numpy.float32' has no len()"
     ]
    }
   ],
   "source": [
    "len(H[1].data[3])"
   ]
  },
  {
   "cell_type": "code",
   "execution_count": 41,
   "metadata": {
    "collapsed": false
   },
   "outputs": [
    {
     "data": {
      "text/plain": [
       "-0.018829346"
      ]
     },
     "execution_count": 41,
     "metadata": {},
     "output_type": "execute_result"
    }
   ],
   "source": [
    "H[0].data[0][0]"
   ]
  },
  {
   "cell_type": "code",
   "execution_count": null,
   "metadata": {
    "collapsed": true
   },
   "outputs": [],
   "source": []
  }
 ],
 "metadata": {
  "kernelspec": {
   "display_name": "Python 2",
   "language": "python",
   "name": "python2"
  },
  "language_info": {
   "codemirror_mode": {
    "name": "ipython",
    "version": 2
   },
   "file_extension": ".py",
   "mimetype": "text/x-python",
   "name": "python",
   "nbconvert_exporter": "python",
   "pygments_lexer": "ipython2",
   "version": "2.7.6"
  }
 },
 "nbformat": 4,
 "nbformat_minor": 0
}
